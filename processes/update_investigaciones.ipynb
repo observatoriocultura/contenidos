{
 "cells": [
  {
   "cell_type": "code",
   "execution_count": 1,
   "metadata": {},
   "outputs": [],
   "source": [
    "import pandas as pd"
   ]
  },
  {
   "cell_type": "code",
   "execution_count": 2,
   "metadata": {},
   "outputs": [],
   "source": [
    "# Variables de referencia\n",
    "investigaciones_file_id = '1mTpRd2lgxaY_FJj9XDcXHfMHEOfg2c6rxmUE-zR68WA'\n",
    "investigaciones_gid = '1186279524'\n",
    "productos_gid = '1226549997'\n",
    "data_folder = '../content/data/investigaciones'"
   ]
  },
  {
   "cell_type": "code",
   "execution_count": 31,
   "metadata": {},
   "outputs": [],
   "source": [
    "# Leer archivo y guardarlo\n",
    "url_investigaciones = f'https://docs.google.com/spreadsheets/d/{investigaciones_file_id}/export?format=csv&gid={investigaciones_gid}'\n",
    "df_investigaciones_pre = pd.read_csv(url_investigaciones)\n",
    "df_investigaciones = pd.DataFrame()"
   ]
  },
  {
   "cell_type": "code",
   "execution_count": 39,
   "metadata": {},
   "outputs": [],
   "source": [
    "columnas_nombre = {\n",
    "    'ID':'id',\n",
    "    'Título':'titulo',\n",
    "    'Descripción':'descripcion',\n",
    "    'ENTIDAD':'entidad_solicitante',\n",
    "    'EXPEDIENTE':'expediente_orfeo',\n",
    "    'Dirección/Dependencia':'dependencia',\n",
    "    'Estado':'estado',\n",
    "    'Linea de investigación':'linea_investigacion',\n",
    "    'Objetivo de la investigación':'objetivo',\n",
    "    'Carpeta productos':'carpeta_productos',\n",
    "    'Palabras clave':'palabras_clave',\n",
    "    'Investigadores':'investigadores',\n",
    "}"
   ]
  },
  {
   "cell_type": "code",
   "execution_count": 40,
   "metadata": {},
   "outputs": [],
   "source": [
    "for columna,nombre in columnas_nombre.items():\n",
    "    #print(columna,nombre)\n",
    "    df_investigaciones[nombre] = df_investigaciones_pre[columna]"
   ]
  },
  {
   "cell_type": "code",
   "execution_count": 41,
   "metadata": {},
   "outputs": [],
   "source": [
    "df_investigaciones.to_json(f'{data_folder}/investigaciones.json',index=False, orient='records', indent=1)"
   ]
  },
  {
   "cell_type": "code",
   "execution_count": 4,
   "metadata": {},
   "outputs": [],
   "source": [
    "# Leer archivo y guardarlo\n",
    "url_productos = f'https://docs.google.com/spreadsheets/d/{investigaciones_file_id}/export?format=csv&gid={productos_gid}'\n",
    "df_productos = pd.read_csv(url_productos)\n",
    "df_productos.to_json(f'{data_folder}/productos.json',index=False, orient='records', indent=1)"
   ]
  }
 ],
 "metadata": {
  "kernelspec": {
   "display_name": "Python 3",
   "language": "python",
   "name": "python3"
  },
  "language_info": {
   "codemirror_mode": {
    "name": "ipython",
    "version": 3
   },
   "file_extension": ".py",
   "mimetype": "text/x-python",
   "name": "python",
   "nbconvert_exporter": "python",
   "pygments_lexer": "ipython3",
   "version": "3.12.5"
  }
 },
 "nbformat": 4,
 "nbformat_minor": 2
}
