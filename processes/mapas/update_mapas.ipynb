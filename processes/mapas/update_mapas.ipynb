{
 "cells": [
  {
   "cell_type": "code",
   "execution_count": 5,
   "metadata": {},
   "outputs": [],
   "source": [
    "import pandas as pd"
   ]
  },
  {
   "cell_type": "code",
   "execution_count": 6,
   "metadata": {},
   "outputs": [],
   "source": [
    "# Variables de referencia\n",
    "mapas_file_id = '1QNHIpeIJqBlDZWTfGNvyGBRMzZ60-aLXPQ130HrhL7g'\n",
    "mapas_gid = '0'\n",
    "data_folder = '../../content/data/mapas'"
   ]
  },
  {
   "cell_type": "code",
   "execution_count": 7,
   "metadata": {},
   "outputs": [],
   "source": [
    "# Leer archivo y guardarlo\n",
    "url_mapas = f'https://docs.google.com/spreadsheets/d/{mapas_file_id}/export?format=csv&gid={mapas_gid}'\n",
    "df_mapas = pd.read_csv(url_mapas)"
   ]
  },
  {
   "cell_type": "code",
   "execution_count": 8,
   "metadata": {},
   "outputs": [],
   "source": [
    "df_mapas.to_json(f'{data_folder}/mapas.json',index=False, orient='records', indent=1)"
   ]
  }
 ],
 "metadata": {
  "kernelspec": {
   "display_name": "Python 3",
   "language": "python",
   "name": "python3"
  },
  "language_info": {
   "codemirror_mode": {
    "name": "ipython",
    "version": 3
   },
   "file_extension": ".py",
   "mimetype": "text/x-python",
   "name": "python",
   "nbconvert_exporter": "python",
   "pygments_lexer": "ipython3",
   "version": "3.12.5"
  }
 },
 "nbformat": 4,
 "nbformat_minor": 2
}
