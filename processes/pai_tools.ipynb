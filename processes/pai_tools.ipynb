{
 "cells": [
  {
   "cell_type": "code",
   "execution_count": 2,
   "metadata": {},
   "outputs": [
    {
     "name": "stdout",
     "output_type": "stream",
     "text": [
      "El archivo 'rango_numeros_combinados.xlsx' se ha creado con éxito.\n"
     ]
    }
   ],
   "source": [
    "import pandas as pd\n",
    "\n",
    "# Generar los rangos de números\n",
    "columna1 = list(range(60, 95))  # Números del 60 al 94\n",
    "columna2 = list(range(26, 53))  # Números del 26 al 52\n",
    "\n",
    "# Crear el producto cartesiano de las dos listas\n",
    "df = pd.DataFrame([(x, y) for x in columna1 for y in columna2], columns=['investigacion_id', 'semana'])\n",
    "\n",
    "# Exportar a un archivo de Excel\n",
    "df.to_excel('cronograma_Detalle.xlsx', index=False)\n",
    "\n",
    "print(\"El archivo 'rango_numeros_combinados.xlsx' se ha creado con éxito.\")\n"
   ]
  }
 ],
 "metadata": {
  "kernelspec": {
   "display_name": "Python 3",
   "language": "python",
   "name": "python3"
  },
  "language_info": {
   "codemirror_mode": {
    "name": "ipython",
    "version": 3
   },
   "file_extension": ".py",
   "mimetype": "text/x-python",
   "name": "python",
   "nbconvert_exporter": "python",
   "pygments_lexer": "ipython3",
   "version": "3.12.5"
  }
 },
 "nbformat": 4,
 "nbformat_minor": 2
}
