{
 "cells": [
  {
   "cell_type": "code",
   "execution_count": 26,
   "metadata": {},
   "outputs": [],
   "source": [
    "import pandas as pd"
   ]
  },
  {
   "cell_type": "code",
   "execution_count": 27,
   "metadata": {},
   "outputs": [],
   "source": [
    "# Variables de referencia\n",
    "investigaciones_file_id = '1mTpRd2lgxaY_FJj9XDcXHfMHEOfg2c6rxmUE-zR68WA'\n",
    "investigaciones_gid = '1186279524'\n",
    "productos_gid = '1226549997'\n",
    "hallazgos_gid = '987529212'\n",
    "data_folder = '../../content/data/investigaciones'"
   ]
  },
  {
   "cell_type": "code",
   "execution_count": 28,
   "metadata": {},
   "outputs": [],
   "source": [
    "# Leer archivo y guardarlo\n",
    "url_investigaciones = f'https://docs.google.com/spreadsheets/d/{investigaciones_file_id}/export?format=csv&gid={investigaciones_gid}'\n",
    "df_investigaciones_pre = pd.read_csv(url_investigaciones)\n",
    "df_investigaciones = pd.DataFrame()"
   ]
  },
  {
   "cell_type": "code",
   "execution_count": 29,
   "metadata": {},
   "outputs": [],
   "source": [
    "columnas_nombre = {\n",
    "    'ID':'id',\n",
    "    'Título':'titulo',\n",
    "    'Descripción':'descripcion',\n",
    "    'Entidad':'entidad_solicitante',\n",
    "    'EXPEDIENTE':'expediente_orfeo',\n",
    "    'Dirección/Dependencia':'dependencia',\n",
    "    'puntaje':'puntaje',\n",
    "    'Estado':'estado',\n",
    "    'Linea de investigación':'linea_investigacion',\n",
    "    'Objetivo de la investigación':'objetivo',\n",
    "    'Carpeta productos':'carpeta_productos',\n",
    "    'Palabras clave':'palabras_clave',\n",
    "    'Investigadores':'investigadores',\n",
    "}"
   ]
  },
  {
   "cell_type": "code",
   "execution_count": 30,
   "metadata": {},
   "outputs": [],
   "source": [
    "for columna,nombre in columnas_nombre.items():\n",
    "    #print(columna,nombre)\n",
    "    df_investigaciones[nombre] = df_investigaciones_pre[columna]\n",
    "\n",
    "# Agregar la columna año\n",
    "df_investigaciones['anio'] = 2023;\n",
    "\n",
    "# Ordenar por puntaje\n",
    "df_investigaciones = df_investigaciones.sort_values(by='puntaje', ascending=False)\n"
   ]
  },
  {
   "cell_type": "code",
   "execution_count": 31,
   "metadata": {},
   "outputs": [],
   "source": [
    "df_investigaciones.to_json(f'{data_folder}/investigaciones.json',index=False, orient='records', indent=1)"
   ]
  },
  {
   "cell_type": "markdown",
   "metadata": {},
   "source": [
    "## Actualizar productos"
   ]
  },
  {
   "cell_type": "code",
   "execution_count": 32,
   "metadata": {},
   "outputs": [],
   "source": [
    "# Leer archivo y guardarlo\n",
    "url_productos = f'https://docs.google.com/spreadsheets/d/{investigaciones_file_id}/export?format=csv&gid={productos_gid}'\n",
    "df_productos_pre = pd.read_csv(url_productos)\n",
    "df_productos = pd.DataFrame()\n",
    "df_productos.to_json(f'{data_folder}/productos.json',index=False, orient='records', indent=1)"
   ]
  },
  {
   "cell_type": "code",
   "execution_count": 33,
   "metadata": {},
   "outputs": [],
   "source": [
    "columnas_nombre = {\n",
    "    'ID Investigación':'investigacion_id',\n",
    "    'Tipo producto':'tipo_producto',\n",
    "    'Título':'titulo',\n",
    "    'Incluir en ficha':'incluir_en_ficha',\n",
    "    'Link para ficha':'url'\n",
    "}\n",
    "\n",
    "for columna,nombre in columnas_nombre.items():\n",
    "    #print(columna,nombre)\n",
    "    df_productos[nombre] = df_productos_pre[columna]\n",
    "\n",
    "df_productos.to_json(f'{data_folder}/productos.json',index=False, orient='records', indent=1)"
   ]
  },
  {
   "cell_type": "markdown",
   "metadata": {},
   "source": [
    "## Actualizar hallazgos"
   ]
  },
  {
   "cell_type": "code",
   "execution_count": 34,
   "metadata": {},
   "outputs": [],
   "source": [
    "# Leer archivo y guardarlo\n",
    "url_hallazgos = f'https://docs.google.com/spreadsheets/d/{investigaciones_file_id}/export?format=csv&gid={hallazgos_gid}'\n",
    "df_hallazgos_pre = pd.read_csv(url_hallazgos)\n",
    "df_hallazgos = pd.DataFrame()"
   ]
  },
  {
   "cell_type": "code",
   "execution_count": 35,
   "metadata": {},
   "outputs": [],
   "source": [
    "columnas_nombre = {\n",
    "    'ID Investigación':'investigacion_id',\n",
    "    'Número':'orden',\n",
    "    'Título':'titulo',\n",
    "    'Texto hallazgo':'texto',\n",
    "    'Valor':'valor',\n",
    "    'Variable':'unidad_medida',\n",
    "}\n",
    "\n",
    "for columna,nombre in columnas_nombre.items():\n",
    "    df_hallazgos[nombre] = df_hallazgos_pre[columna]\n",
    "\n",
    "df_hallazgos.to_json(f'{data_folder}/hallazgos.json',index=False, orient='records', indent=1)"
   ]
  }
 ],
 "metadata": {
  "kernelspec": {
   "display_name": "Python 3",
   "language": "python",
   "name": "python3"
  },
  "language_info": {
   "codemirror_mode": {
    "name": "ipython",
    "version": 3
   },
   "file_extension": ".py",
   "mimetype": "text/x-python",
   "name": "python",
   "nbconvert_exporter": "python",
   "pygments_lexer": "ipython3",
   "version": "3.12.5"
  }
 },
 "nbformat": 4,
 "nbformat_minor": 2
}
