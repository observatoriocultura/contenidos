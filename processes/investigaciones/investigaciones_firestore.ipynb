{
 "cells": [
  {
   "cell_type": "markdown",
   "metadata": {},
   "source": [
    "## Cargar datos de investigaciones en Firebase"
   ]
  },
  {
   "cell_type": "code",
   "execution_count": 10,
   "metadata": {},
   "outputs": [],
   "source": [
    "import json\n",
    "import firebase_admin\n",
    "from firebase_admin import credentials, firestore\n",
    "\n",
    "# Ruta al archivo de credenciales y al archivo JSON\n",
    "cred = credentials.Certificate('../../config/keys/vebonit-b4f3d-firebase-adminsdk-orgkt-9fc0849a06.json')\n",
    "\n",
    "# Verificar si la app ya ha sido inicializada\n",
    "if not firebase_admin._apps:\n",
    "    cred = credentials.Certificate('ruta/al/archivo/clave-privada.json')\n",
    "    firebase_admin.initialize_app(cred)\n",
    "\n",
    "db = firestore.client()"
   ]
  },
  {
   "cell_type": "code",
   "execution_count": 8,
   "metadata": {},
   "outputs": [],
   "source": [
    "# Eliminar todos los documentos de la colección \"investigaciones\"\n",
    "def eliminar_todos_los_documentos():\n",
    "    investigaciones_ref = db.collection('investigaciones')\n",
    "    docs = investigaciones_ref.stream()\n",
    "    for doc in docs:\n",
    "        doc.reference.delete()\n",
    "    print(\"Todos los documentos eliminados de la colección 'investigaciones'\")"
   ]
  },
  {
   "cell_type": "code",
   "execution_count": 9,
   "metadata": {},
   "outputs": [
    {
     "name": "stdout",
     "output_type": "stream",
     "text": [
      "Todos los documentos eliminados de la colección 'investigaciones'\n",
      "Datos cargados en la colección 'investigaciones'\n"
     ]
    }
   ],
   "source": [
    "# Leer el archivo JSON\n",
    "with open('../../content/data/investigaciones/investigaciones.json') as f:\n",
    "    investigaciones = json.load(f)\n",
    "\n",
    "# Llamar a la función para eliminar todos los documentos\n",
    "eliminar_todos_los_documentos()\n",
    "\n",
    "# Subir cada investigación a la colección \"investigaciones\"\n",
    "for investigacion in investigaciones:\n",
    "    db.collection('investigaciones').add(investigacion)\n",
    "\n",
    "print(\"Datos cargados en la colección 'investigaciones'\")\n"
   ]
  }
 ],
 "metadata": {
  "kernelspec": {
   "display_name": "Python 3",
   "language": "python",
   "name": "python3"
  },
  "language_info": {
   "codemirror_mode": {
    "name": "ipython",
    "version": 3
   },
   "file_extension": ".py",
   "mimetype": "text/x-python",
   "name": "python",
   "nbconvert_exporter": "python",
   "pygments_lexer": "ipython3",
   "version": "3.12.5"
  }
 },
 "nbformat": 4,
 "nbformat_minor": 2
}
