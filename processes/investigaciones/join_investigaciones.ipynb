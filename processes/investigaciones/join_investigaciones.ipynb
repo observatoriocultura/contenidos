{
 "cells": [
  {
   "cell_type": "code",
   "execution_count": 1,
   "metadata": {},
   "outputs": [],
   "source": [
    "import pandas as pd"
   ]
  },
  {
   "cell_type": "code",
   "execution_count": 2,
   "metadata": {},
   "outputs": [],
   "source": [
    "data_folder = '../../content/data/investigaciones'"
   ]
  },
  {
   "cell_type": "code",
   "execution_count": 3,
   "metadata": {},
   "outputs": [],
   "source": [
    "# Consolidar investigaciones\n",
    "df_investigaciones_2023 = pd.read_json(f'{data_folder}/2023-investigaciones.json')\n",
    "df_investigaciones_2024 = pd.read_json(f'{data_folder}/2024-investigaciones.json')\n",
    "df_investigaciones = pd.concat([df_investigaciones_2024, df_investigaciones_2023], ignore_index=True)\n",
    "df_investigaciones.to_json(f'{data_folder}/investigaciones.json',index=False, orient='records', indent=1)"
   ]
  },
  {
   "cell_type": "code",
   "execution_count": 4,
   "metadata": {},
   "outputs": [],
   "source": [
    "# Consolidar productos\n",
    "df_productos_2023 = pd.read_json(f'{data_folder}/2023-productos.json')\n",
    "df_productos_2024 = pd.read_json(f'{data_folder}/2024-productos.json')\n",
    "df_productos = pd.concat([df_productos_2024, df_productos_2023], ignore_index=True)\n",
    "df_productos.to_json(f'{data_folder}/productos.json',index=False, orient='records', indent=1)"
   ]
  },
  {
   "cell_type": "code",
   "execution_count": 5,
   "metadata": {},
   "outputs": [],
   "source": [
    "# Consolidar hallazgos\n",
    "df_hallazgos_2023 = pd.read_json(f'{data_folder}/2023-hallazgos.json')\n",
    "df_hallazgos_2024 = pd.read_json(f'{data_folder}/2024-hallazgos.json')\n",
    "df_hallazgos = pd.concat([df_hallazgos_2024, df_hallazgos_2023], ignore_index=True)\n",
    "df_hallazgos.to_json(f'{data_folder}/hallazgos.json',index=False, orient='records', indent=1)"
   ]
  },
  {
   "cell_type": "code",
   "execution_count": 6,
   "metadata": {},
   "outputs": [
    {
     "name": "stderr",
     "output_type": "stream",
     "text": [
      "warning: in the working copy of 'content/data/investigaciones/2024-hallazgos.json', LF will be replaced by CRLF the next time Git touches it\n",
      "warning: in the working copy of 'content/data/investigaciones/2024-investigaciones.json', LF will be replaced by CRLF the next time Git touches it\n",
      "warning: in the working copy of 'content/data/investigaciones/2024-productos.json', LF will be replaced by CRLF the next time Git touches it\n",
      "warning: in the working copy of 'content/data/investigaciones/hallazgos.json', LF will be replaced by CRLF the next time Git touches it\n",
      "warning: in the working copy of 'content/data/investigaciones/investigaciones.json', LF will be replaced by CRLF the next time Git touches it\n",
      "warning: in the working copy of 'content/data/investigaciones/productos.json', LF will be replaced by CRLF the next time Git touches it\n",
      "warning: in the working copy of 'content/data/visualizaciones/visualizaciones.json', LF will be replaced by CRLF the next time Git touches it\n",
      "warning: in the working copy of 'processes/visualizaciones/update_visualizaciones.ipynb', LF will be replaced by CRLF the next time Git touches it\n"
     ]
    },
    {
     "name": "stdout",
     "output_type": "stream",
     "text": [
      "[master 3b4297c] Update investigaciones, i035, Somos Hallazgos\n",
      " 15 files changed, 575 insertions(+), 486 deletions(-)\n",
      " create mode 100644 projects/investigaciones/thumbnails/63.jpg\n",
      " create mode 100644 projects/investigaciones/thumbnails/65.jpg\n",
      " create mode 100644 projects/investigaciones/thumbnails/77.jpg\n",
      " create mode 100644 projects/investigaciones/thumbnails/87.jpg\n",
      " create mode 100644 projects/visualizaciones/thumbnails/52.jpg\n",
      " create mode 100644 projects/visualizaciones/thumbnails/53.jpg\n",
      " create mode 100644 projects/visualizaciones/thumbnails/54.jpg\n",
      " create mode 100644 projects/visualizaciones/thumbnails/55.jpg\n"
     ]
    },
    {
     "name": "stderr",
     "output_type": "stream",
     "text": [
      "To https://github.com/observatoriocultura/contenidos.git\n",
      "   6175ead..3b4297c  master -> master\n"
     ]
    }
   ],
   "source": [
    "# Actualizar el repositorio en GitHub\n",
    "!git add -A\n",
    "!git commit -m \"Update investigaciones, i035, Somos Hallazgos\"\n",
    "!git push origin master"
   ]
  }
 ],
 "metadata": {
  "kernelspec": {
   "display_name": "Python 3",
   "language": "python",
   "name": "python3"
  },
  "language_info": {
   "codemirror_mode": {
    "name": "ipython",
    "version": 3
   },
   "file_extension": ".py",
   "mimetype": "text/x-python",
   "name": "python",
   "nbconvert_exporter": "python",
   "pygments_lexer": "ipython3",
   "version": "3.12.5"
  }
 },
 "nbformat": 4,
 "nbformat_minor": 2
}
