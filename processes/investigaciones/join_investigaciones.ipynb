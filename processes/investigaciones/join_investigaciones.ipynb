{
 "cells": [
  {
   "cell_type": "code",
   "execution_count": 6,
   "metadata": {},
   "outputs": [],
   "source": [
    "import pandas as pd"
   ]
  },
  {
   "cell_type": "code",
   "execution_count": 7,
   "metadata": {},
   "outputs": [],
   "source": [
    "data_folder = '../../content/data/investigaciones'"
   ]
  },
  {
   "cell_type": "code",
   "execution_count": 12,
   "metadata": {},
   "outputs": [],
   "source": [
    "# Consolidar investigaciones\n",
    "df_investigaciones_2023 = pd.read_json(f'{data_folder}/2023-investigaciones.json')\n",
    "df_investigaciones_2024 = pd.read_json(f'{data_folder}/2024-investigaciones.json')\n",
    "df_investigaciones_2025 = pd.read_json(f'{data_folder}/2025-investigaciones.json')\n",
    "\n",
    "df_investigaciones = pd.concat([df_investigaciones_2024, df_investigaciones_2023], ignore_index=True)\n",
    "df_investigaciones = pd.concat([df_investigaciones, df_investigaciones_2025], ignore_index=True)\n",
    "\n",
    "# Ordenar por año descendente y luego por puntaje descendente\n",
    "df_investigaciones = df_investigaciones.sort_values(by=['anio', 'puntaje'], ascending=[False, False])\n",
    "\n",
    "df_investigaciones.to_json(f'{data_folder}/investigaciones.json',index=False, orient='records', indent=1)"
   ]
  },
  {
   "cell_type": "code",
   "execution_count": 13,
   "metadata": {},
   "outputs": [],
   "source": [
    "# Consolidar productos\n",
    "df_productos_2023 = pd.read_json(f'{data_folder}/2023-productos.json')\n",
    "df_productos_2024 = pd.read_json(f'{data_folder}/2024-productos.json')\n",
    "df_productos_2025 = pd.read_json(f'{data_folder}/2025-productos.json')\n",
    "\n",
    "df_productos = pd.concat([df_productos_2024, df_productos_2023], ignore_index=True)\n",
    "df_productos = pd.concat([df_productos, df_productos_2025], ignore_index=True)\n",
    "\n",
    "df_productos.to_json(f'{data_folder}/productos.json',index=False, orient='records', indent=1)"
   ]
  },
  {
   "cell_type": "code",
   "execution_count": 14,
   "metadata": {},
   "outputs": [],
   "source": [
    "# Consolidar hallazgos\n",
    "df_hallazgos_2023 = pd.read_json(f'{data_folder}/2023-hallazgos.json')\n",
    "df_hallazgos_2024 = pd.read_json(f'{data_folder}/2024-hallazgos.json')\n",
    "df_hallazgos_2025 = pd.read_json(f'{data_folder}/2025-hallazgos.json')\n",
    "\n",
    "df_hallazgos = pd.concat([df_hallazgos_2024, df_hallazgos_2023], ignore_index=True)\n",
    "df_hallazgos = pd.concat([df_hallazgos, df_hallazgos_2025], ignore_index=True)\n",
    "\n",
    "df_hallazgos.to_json(f'{data_folder}/hallazgos.json',index=False, orient='records', indent=1)"
   ]
  },
  {
   "cell_type": "code",
   "execution_count": 15,
   "metadata": {},
   "outputs": [],
   "source": [
    "with pd.ExcelWriter(f'{data_folder}/investigaciones.xlsx', engine='openpyxl', mode='a', if_sheet_exists='replace') as writer:\n",
    "    df_investigaciones.to_excel(writer, sheet_name='investigaciones', index=False)\n",
    "    df_productos.to_excel(writer, sheet_name='productos', index=False)\n",
    "    df_hallazgos.to_excel(writer, sheet_name='hallazgos', index=False)"
   ]
  },
  {
   "cell_type": "code",
   "execution_count": 16,
   "metadata": {},
   "outputs": [
    {
     "name": "stderr",
     "output_type": "stream",
     "text": [
      "warning: in the working copy of 'content/data/investigaciones/2025-hallazgos.json', LF will be replaced by CRLF the next time Git touches it\n",
      "warning: in the working copy of 'content/data/investigaciones/2025-investigaciones.json', LF will be replaced by CRLF the next time Git touches it\n",
      "warning: in the working copy of 'content/data/investigaciones/2025-productos.json', LF will be replaced by CRLF the next time Git touches it\n",
      "warning: in the working copy of 'content/data/investigaciones/hallazgos.json', LF will be replaced by CRLF the next time Git touches it\n",
      "warning: in the working copy of 'content/data/investigaciones/investigaciones.json', LF will be replaced by CRLF the next time Git touches it\n",
      "warning: in the working copy of 'content/data/investigaciones/productos.json', LF will be replaced by CRLF the next time Git touches it\n",
      "warning: in the working copy of 'processes/investigaciones/join_investigaciones.ipynb', LF will be replaced by CRLF the next time Git touches it\n",
      "warning: in the working copy of 'processes/investigaciones/update_investigaciones-2025.ipynb', LF will be replaced by CRLF the next time Git touches it\n"
     ]
    },
    {
     "name": "stdout",
     "output_type": "stream",
     "text": [
      "[master 38e80b5] Update investigaciones, i100, PCB2038 ficha v2\n",
      " 5 files changed, 1690 insertions(+), 1677 deletions(-)\n"
     ]
    },
    {
     "name": "stderr",
     "output_type": "stream",
     "text": [
      "To https://github.com/observatoriocultura/contenidos.git\n",
      "   aa2e33f..38e80b5  master -> master\n"
     ]
    }
   ],
   "source": [
    "# Actualizar el repositorio en GitHub\n",
    "!git add -A\n",
    "!git commit -m \"Update investigaciones, i100, PCB2038 ficha v2\"\n",
    "!git push origin master"
   ]
  }
 ],
 "metadata": {
  "kernelspec": {
   "display_name": "Python 3",
   "language": "python",
   "name": "python3"
  },
  "language_info": {
   "codemirror_mode": {
    "name": "ipython",
    "version": 3
   },
   "file_extension": ".py",
   "mimetype": "text/x-python",
   "name": "python",
   "nbconvert_exporter": "python",
   "pygments_lexer": "ipython3",
   "version": "3.12.5"
  }
 },
 "nbformat": 4,
 "nbformat_minor": 2
}
