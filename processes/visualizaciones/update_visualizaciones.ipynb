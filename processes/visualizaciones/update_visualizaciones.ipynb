{
 "cells": [
  {
   "cell_type": "code",
   "execution_count": 1,
   "metadata": {},
   "outputs": [],
   "source": [
    "import pandas as pd"
   ]
  },
  {
   "cell_type": "code",
   "execution_count": 2,
   "metadata": {},
   "outputs": [],
   "source": [
    "# Variables de referencia\n",
    "visualizaciones_file_id = '1K4Ly_hU0j6-bIo-SAtXHMeBiizrUEsg4w8XE8o5Lpik'\n",
    "visualizaciones_gid = '0'\n",
    "data_folder = '../../content/data/visualizaciones'"
   ]
  },
  {
   "cell_type": "code",
   "execution_count": 3,
   "metadata": {},
   "outputs": [
    {
     "name": "stdout",
     "output_type": "stream",
     "text": [
      "https://docs.google.com/spreadsheets/d/1K4Ly_hU0j6-bIo-SAtXHMeBiizrUEsg4w8XE8o5Lpik/export?format=csv&gid=0\n"
     ]
    }
   ],
   "source": [
    "# Leer archivo y guardarlo\n",
    "url_visualizaciones = f'https://docs.google.com/spreadsheets/d/{visualizaciones_file_id}/export?format=csv&gid={visualizaciones_gid}'\n",
    "print(url_visualizaciones)\n",
    "df_visualizaciones = pd.read_csv(url_visualizaciones)"
   ]
  },
  {
   "cell_type": "code",
   "execution_count": 4,
   "metadata": {},
   "outputs": [],
   "source": [
    "df_visualizaciones.to_json(f'{data_folder}/visualizaciones.json',index=False, orient='records', indent=1)"
   ]
  }
 ],
 "metadata": {
  "kernelspec": {
   "display_name": "Python 3",
   "language": "python",
   "name": "python3"
  },
  "language_info": {
   "codemirror_mode": {
    "name": "ipython",
    "version": 3
   },
   "file_extension": ".py",
   "mimetype": "text/x-python",
   "name": "python",
   "nbconvert_exporter": "python",
   "pygments_lexer": "ipython3",
   "version": "3.12.5"
  }
 },
 "nbformat": 4,
 "nbformat_minor": 2
}
